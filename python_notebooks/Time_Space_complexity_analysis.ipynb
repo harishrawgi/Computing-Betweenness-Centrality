{
 "cells": [
  {
   "cell_type": "markdown",
   "metadata": {},
   "source": [
    "### Importing the required libraries"
   ]
  },
  {
   "cell_type": "code",
   "execution_count": null,
   "metadata": {},
   "outputs": [],
   "source": [
    "import numpy as np\n",
    "import matplotlib.pyplot as plt"
   ]
  },
  {
   "cell_type": "markdown",
   "metadata": {},
   "source": [
    "### Some Vectorized functions which are used later"
   ]
  },
  {
   "cell_type": "code",
   "execution_count": null,
   "metadata": {},
   "outputs": [],
   "source": [
    "squarer = lambda t: t ** 2\n",
    "vsquarer = np.vectorize(squarer)"
   ]
  },
  {
   "cell_type": "code",
   "execution_count": null,
   "metadata": {},
   "outputs": [],
   "source": [
    "cuber = lambda t: t ** 3\n",
    "vcuber = np.vectorize(cuber)"
   ]
  },
  {
   "cell_type": "markdown",
   "metadata": {},
   "source": [
    "### Following code generates various plots to analyse time and space complexities for varying no. of vertices"
   ]
  },
  {
   "cell_type": "code",
   "execution_count": null,
   "metadata": {},
   "outputs": [],
   "source": [
    "# Reading the data from the analysis file\n",
    "execution_analysis = np.loadtxt(\"execution_analysis_num_vertices.txt\")\n",
    "num_vertices = execution_analysis[:,0]\n",
    "time_fw = execution_analysis[:,1]\n",
    "time_bfs = execution_analysis[:,2]\n",
    "memory_usage = execution_analysis[:,3]\n",
    "\n",
    "# calculating the cube and square orders for comparison\n",
    "n_cube = vcuber(num_vertices)\n",
    "n_squared = vsquarer(num_vertices)\n",
    "\n",
    "# plotting the non-normalized execution time for FW\n",
    "p1 = plt.figure(figsize=(8,8))\n",
    "plt.plot(num_vertices, time_fw, '-bD', label=\"FW Time\")\n",
    "plt.xlabel('Number of Vertices in the graph',fontsize=16)\n",
    "plt.ylabel('Time taken in seconds',fontsize=16)\n",
    "plt.title('Time complexity for Floyd-Warshall implementation',fontsize=16)\n",
    "plt.savefig(\"FW_time_num_vertices.pdf\")\n",
    "#p1.show()\n",
    "\n",
    "# plotting the non-normalized execution time for BFS\n",
    "p2 = plt.figure(figsize=(8,8))\n",
    "plt.plot(num_vertices, time_bfs, '-bD', label=\"BFS Time\")\n",
    "plt.xlabel('Number of Vertices in the graph',fontsize=16)\n",
    "plt.ylabel('Time taken in seconds',fontsize=16)\n",
    "plt.title('Time complexity for BFS implementation',fontsize=16)\n",
    "plt.savefig(\"BFS_time_num_vertices.pdf\")\n",
    "#p2.show()\n",
    "\n",
    "\n",
    "# normalizing the execution times and cube, square orders\n",
    "# normalization allows us to compare the two algorithms as execution times are hugely different in scales\n",
    "time_fw = time_fw/time_fw.sum(0)\n",
    "time_bfs = time_bfs/time_bfs.sum(0)\n",
    "memory_usage = memory_usage/memory_usage.sum(0)\n",
    "n_cube = n_cube/n_cube.sum(0)\n",
    "n_squared = n_squared/n_squared.sum(0)\n",
    "\n",
    "#plotting the normalized time for FW along with cube and square orders for comparison\n",
    "p3 = plt.figure(figsize=(8,8))\n",
    "plt.plot(num_vertices,time_fw, '-rD', label=\"FW Time\")\n",
    "plt.plot(num_vertices,n_cube, color = 'g', label=\"cube\")\n",
    "plt.plot(num_vertices,n_squared, color = 'b', label=\"square\")\n",
    "plt.xlabel('Number of Vertices in the graph',fontsize=16)\n",
    "plt.ylabel('Normalized time',fontsize=16)\n",
    "plt.title(' Normalized Time complexity for Floyd-Warshall implementation',fontsize=16)\n",
    "p3.legend(loc='best',fontsize=10)\n",
    "plt.grid()\n",
    "plt.savefig(\"Normalized_FW_time_num_vertices.pdf\")\n",
    "#p3.show()\n",
    "\n",
    "#plotting the normalized time for BFS along with cube and square orders for comparison\n",
    "p4 = plt.figure(figsize=(8,8))\n",
    "plt.plot(num_vertices,time_bfs, '-rD', label=\"BFS Time\")\n",
    "plt.plot(num_vertices,n_squared, color = 'g', label=\"square\")\n",
    "plt.plot(num_vertices,n_cube, color = 'b', label=\"cube\")\n",
    "plt.xlabel('Number of Vertices in the graph',fontsize=16)\n",
    "plt.ylabel('Normalized time',fontsize=16)\n",
    "plt.title('Normalized Time complexity for BFS implementation',fontsize=16)\n",
    "p4.legend(loc='best',fontsize=10)\n",
    "plt.grid()\n",
    "plt.savefig(\"Normalized_BFS_time_num_vertices.pdf\")\n",
    "#p4.show()\n",
    "\n",
    "#plotting the normalized time for BFS and FW for comparison\n",
    "p5 = plt.figure(figsize=(8,8))\n",
    "plt.plot(num_vertices,time_fw, '-rD', label=\"FW Time\")\n",
    "plt.plot(num_vertices,time_bfs, '-gD', label=\"BFS Time\")\n",
    "plt.xlabel('Number of Vertices in the graph',fontsize=16)\n",
    "plt.ylabel('Normalized time',fontsize=16)\n",
    "plt.title('Normalized Time complexity comparison of BFS & FW',fontsize=16)\n",
    "p5.legend(loc='best',fontsize=10)\n",
    "plt.grid()\n",
    "plt.savefig(\"BFS_vs_FW.pdf\")\n",
    "#p5.show()\n",
    "\n",
    "#plotting the normalized memory usage along with cube and square orders for comparison\n",
    "p6 = plt.figure(figsize=(8,8))\n",
    "plt.plot(num_vertices,memory_usage, '-rD', label=\"Memory Usage\")\n",
    "plt.plot(num_vertices,n_squared, color = 'g', label=\"square\")\n",
    "plt.plot(num_vertices,n_cube, color = 'b', label=\"cube\")\n",
    "plt.xlabel('Number of Vertices in the graph',fontsize=16)\n",
    "plt.ylabel('Normalized Memory Usage',fontsize=16)\n",
    "plt.title('Overall Normalized Memory Usage',fontsize=16)\n",
    "p6.legend(loc='best',fontsize=10)\n",
    "plt.grid()\n",
    "plt.savefig(\"Normalized_Memory_usage_num_vertices.pdf\")\n",
    "#p6.show()"
   ]
  },
  {
   "cell_type": "markdown",
   "metadata": {},
   "source": [
    "### Following code generates various plots to analyse time and space complexities for varying graph sparsity"
   ]
  },
  {
   "cell_type": "code",
   "execution_count": null,
   "metadata": {},
   "outputs": [],
   "source": [
    "execution_analysis = np.loadtxt(\"execution_analysis_sparsity.txt\")\n",
    "num_edges = execution_analysis[:,0]\n",
    "time_fw = execution_analysis[:,1]\n",
    "time_bfs = execution_analysis[:,2]\n",
    "memory_usage = execution_analysis[:,3]\n",
    "\n",
    "time_fw = time_fw/time_fw.sum(0)\n",
    "time_bfs = time_bfs/time_bfs.sum(0)\n",
    "memory_usage = memory_usage/memory_usage.sum(0)\n",
    "\n",
    "plt.figure(figsize=(8,8))\n",
    "plt.plot(num_edges,time_fw, label=\"FW\")\n",
    "plt.plot(num_edges,time_bfs, label=\"BFS\")\n",
    "plt.plot(num_edges,memory_usage, label=\"Memory\")\n",
    "plt.xlabel('Number of Edges in the graph',fontsize=16)\n",
    "plt.ylabel('Normalized time/memory',fontsize=16)\n",
    "plt.title('Time/memory VS sparsity of graph',fontsize=16)\n",
    "plt.legend(loc='best',fontsize=10)\n",
    "plt.grid()\n",
    "plt.savefig(\"Time_memory_sparsity.pdf\")\n",
    "#plt.show()"
   ]
  }
 ],
 "metadata": {
  "kernelspec": {
   "display_name": "Python 3",
   "language": "python",
   "name": "python3"
  },
  "language_info": {
   "codemirror_mode": {
    "name": "ipython",
    "version": 3
   },
   "file_extension": ".py",
   "mimetype": "text/x-python",
   "name": "python",
   "nbconvert_exporter": "python",
   "pygments_lexer": "ipython3",
   "version": "3.7.3"
  }
 },
 "nbformat": 4,
 "nbformat_minor": 2
}
