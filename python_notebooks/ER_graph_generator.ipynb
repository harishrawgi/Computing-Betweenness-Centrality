{
 "cells": [
  {
   "cell_type": "markdown",
   "metadata": {},
   "source": [
    "### Importing the required libraries"
   ]
  },
  {
   "cell_type": "code",
   "execution_count": null,
   "metadata": {},
   "outputs": [],
   "source": [
    "import networkx as nx\n",
    "import numpy as np\n",
    "import matplotlib.pyplot as plt"
   ]
  },
  {
   "cell_type": "markdown",
   "metadata": {},
   "source": [
    "### Following segment generates graphs using the Erdos-Renyi random graph generator \n",
    "\n",
    "\n",
    "There are two p values set-up already, use any one of them as per requirements\n",
    "\n",
    "_When v*p > 1, we get a giant component almost surely, we use this fact to ensure that we always get a giant connected component_\n",
    "1. p_sparse is set to 2/v, which gives v*p = 2, which will give a gaint connected component. The low value of p gives us a sparse graph with |E| -> |V|\n",
    "2. p_dense is set to numerator/v. We can get varying degree of sparsity by changing the values of numerator. \n",
    "\n",
    "The numerator's min. value should be greater than ln(v) as that will ensure we get a connected graph, so that we can vary denstiy and keep number of vertices fixed to v. As the numerator gets closer to v, we start getting denser and denser graphs with fully connected when numerator = v\n"
   ]
  },
  {
   "cell_type": "code",
   "execution_count": null,
   "metadata": {
    "scrolled": true
   },
   "outputs": [],
   "source": [
    "# set v as needed\n",
    "v = 6000\n",
    "\n",
    "# p_sparse value\n",
    "p_sparse = 2/v\n",
    "\n",
    "#p_dense value, change numerator as needed (upto v)\n",
    "numerator = 1.2*np.log(v)\n",
    "p_dense = numerator/v\n",
    "\n",
    "#select one p value by commenting out the other\n",
    "p = p_sparse\n",
    "#p = p_dense\n",
    "\n",
    "#generate the random graph using set v and p values\n",
    "G = nx.erdos_renyi_graph(v, p)\n",
    "\n",
    "#take the largest connected component\n",
    "giant = max(nx.connected_component_subgraphs(G, copy=False), key=len)\n",
    "giant = nx.convert_node_labels_to_integers(giant, first_label=0)\n",
    "\n",
    "#store the number of vertices and edges in the giant connected component\n",
    "giant_v = len(giant)\n",
    "giant_e = giant.number_of_edges()\n",
    "\n",
    "print(giant_v)\n",
    "print(giant_e)\n",
    "\n",
    "#if the comonent is connected and the number of vertices are in the correct range\n",
    "#save the graph in edge list format\n",
    "#also we can calculate the BC values and save them if needed for verification\n",
    "if(giant_v>=5000 and giant_v<=20000 and nx.is_connected(giant)):\n",
    "    \n",
    "    #save the graph in a file with appropriate name giving info about the vertices in the graph as well as the giant component\n",
    "    #also add the number of edges in the file name\n",
    "    nx.write_edgelist(giant, \"graphs\\\\\" + \"ERGraph_\"+ str(v) + \"_Giant_\" + str(giant_v) +\"_\" + str(giant_e) + \".txt\", data=False)\n",
    "    \n",
    "    print(\"Graph saved to text file\")\n",
    "    \n",
    "    \"\"\"\n",
    "    bc=nx.betweenness_centrality(giant, normalized=False)\n",
    "    keys = np.fromiter(bc.keys(), dtype=float)\n",
    "    vals = np.fromiter(bc.values(), dtype=float)\n",
    "\n",
    "    keys = keys.reshape(keys.shape[0], 1)\n",
    "    vals = vals.reshape(vals.shape[0], 1)\n",
    "\n",
    "    bc_vals = np.concatenate((keys, vals), axis=1)\n",
    "    np.savetxt(\"graphs\\\\\"+\"bc_values_\" + \"ERGraph_\"+str(v)+\"_Giant_\"+str(giant_v) +\"_\" + str(giant_e) + \".txt\", bc_vals.astype(int))\n",
    "    \"\"\""
   ]
  },
  {
   "cell_type": "code",
   "execution_count": null,
   "metadata": {},
   "outputs": [],
   "source": []
  }
 ],
 "metadata": {
  "kernelspec": {
   "display_name": "Python 3",
   "language": "python",
   "name": "python3"
  },
  "language_info": {
   "codemirror_mode": {
    "name": "ipython",
    "version": 3
   },
   "file_extension": ".py",
   "mimetype": "text/x-python",
   "name": "python",
   "nbconvert_exporter": "python",
   "pygments_lexer": "ipython3",
   "version": "3.7.3"
  }
 },
 "nbformat": 4,
 "nbformat_minor": 2
}
